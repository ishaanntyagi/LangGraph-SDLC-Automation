{
 "cells": [
  {
   "cell_type": "markdown",
   "id": "609a5376",
   "metadata": {},
   "source": [
    "# LangGraph:\n",
    "lets us create WorkFlows Like Flow Charts ( nodes and Edges , where nodes are the Tasks )"
   ]
  },
  {
   "cell_type": "code",
   "execution_count": 44,
   "id": "b6b3af71",
   "metadata": {},
   "outputs": [],
   "source": [
    "from langgraph.graph import StateGraph, END\n",
    "from langchain_google_genai import ChatGoogleGenerativeAI\n",
    "\n",
    "# Stategraph -> main class for making workflowgraph\n",
    "# End -> lets us know where should STOP\n"
   ]
  },
  {
   "cell_type": "code",
   "execution_count": null,
   "id": "fbd7cf99",
   "metadata": {},
   "outputs": [],
   "source": [
    "GEMINI_API_KEY = \"KEY\""
   ]
  },
  {
   "cell_type": "code",
   "execution_count": 46,
   "id": "38405cd7",
   "metadata": {},
   "outputs": [],
   "source": [
    "# class GeminiState: # Defines What Data will be passed through the workflow \n",
    "#     def __init__(self,message): \n",
    "#         self.message = message #This is Users message.\n",
    "#         self.response = None   #This will the Response For now."
   ]
  },
  {
   "cell_type": "code",
   "execution_count": 47,
   "id": "2b329678",
   "metadata": {},
   "outputs": [],
   "source": [
    "def gemini_node(state: dict): #Creating a Gemini Client.\n",
    "    gemini = ChatGoogleGenerativeAI(model=\"gemini-2.0-flash-001\",google_api_key = GEMINI_API_KEY) #providing the key to Gemini client\n",
    "    result = gemini.invoke(state[\"message\"]) # Sends The messsage to Gemini\n",
    "    state[\"response\"] = result.content\n",
    "    return state\n",
    "    \n",
    "    #here the models response as text was saved."
   ]
  },
  {
   "cell_type": "code",
   "execution_count": 48,
   "id": "6a7da3e3",
   "metadata": {},
   "outputs": [
    {
     "data": {
      "text/plain": [
       "<langgraph.graph.state.StateGraph at 0x15c29a012d0>"
      ]
     },
     "execution_count": 48,
     "metadata": {},
     "output_type": "execute_result"
    }
   ],
   "source": [
    "#Build The graph \n",
    "graph = StateGraph(dict)         # Starts a new workflow\n",
    "graph.add_node(\"gemini\",gemini_node)    # Adding a Node\n",
    "graph.add_edge(\"gemini\",END)            # Addin a Edge and ENDING the Flow too.\n",
    "graph.set_entry_point(\"gemini\")         # Enrty Point"
   ]
  },
  {
   "cell_type": "code",
   "execution_count": 49,
   "id": "1ee9432a",
   "metadata": {},
   "outputs": [
    {
     "name": "stdout",
     "output_type": "stream",
     "text": [
      "Gemini said:  Agentic AI refers to a type of artificial intelligence that can **autonomously perceive its environment, make decisions, and take actions to achieve specific goals.**  Think of it as AI with a sense of agency – the ability to act independently and proactively.\n",
      "\n",
      "Here's a breakdown of key aspects of Agentic AI:\n",
      "\n",
      "*   **Autonomy:**  Agentic AI operates with minimal human intervention. It can set its own goals and strategies to achieve them.\n",
      "*   **Goal-Oriented:** It's designed to achieve specific objectives or tasks. These goals can be predefined or dynamically adjusted based on the environment.\n",
      "*   **Perception:**  It gathers information from its environment through sensors, APIs, or other data sources.\n",
      "*   **Decision-Making:** It uses reasoning, planning, and learning algorithms to decide on the best course of action.\n",
      "*   **Action:**  It executes its decisions by taking actions in the real world or a simulated environment. This could involve controlling physical robots, manipulating data, or interacting with other systems.\n",
      "*   **Learning and Adaptation:**  Agentic AI can learn from its experiences and adapt its behavior to improve its performance over time. This often involves reinforcement learning or other machine learning techniques.\n",
      "*   **Memory:** Agentic AI often has a form of memory (short-term or long-term) to store information about its environment, past actions, and learned strategies. This allows it to make more informed decisions.\n",
      "\n",
      "**Key Differences from Traditional AI:**\n",
      "\n",
      "*   **Proactivity:** Traditional AI often reacts to specific inputs or requests. Agentic AI is more proactive, taking initiative to achieve its goals.\n",
      "*   **Planning and Reasoning:**  Agentic AI is capable of more complex planning and reasoning than many traditional AI systems.\n",
      "*   **Adaptability:**  Agentic AI can adapt to changing environments and unexpected events, while traditional AI may require retraining.\n",
      "\n",
      "**Examples of Agentic AI in Development:**\n",
      "\n",
      "*   **Autonomous vehicles:**  Perceive the road, make driving decisions, and navigate to a destination.\n",
      "*   **Robotics in manufacturing:** Plan and execute complex assembly tasks without human guidance.\n",
      "*   **Personal assistants:** Manage schedules, make recommendations, and automate tasks based on user preferences.\n",
      "*   **Financial trading bots:** Analyze market data, make investment decisions, and execute trades.\n",
      "*   **Scientific discovery:** Design experiments, analyze data, and generate hypotheses in scientific research.\n",
      "*   **Content Creation:** Generate articles, social media posts, or code with minimal human input.\n",
      "\n",
      "**Challenges and Considerations:**\n",
      "\n",
      "*   **Safety:** Ensuring that Agentic AI systems act in a safe and ethical manner is crucial.\n",
      "*   **Control:**  Maintaining control over autonomous systems can be challenging.\n",
      "*   **Explainability:** Understanding how Agentic AI systems make decisions is important for transparency and accountability.\n",
      "*   **Bias:**  Agentic AI can inherit biases from the data it is trained on.\n",
      "*   **Security:** Agentic AI systems can be vulnerable to attacks that could compromise their behavior.\n",
      "\n",
      "**In summary, Agentic AI represents a significant step towards creating AI systems that can act independently and intelligently to solve complex problems.  It's a rapidly evolving field with the potential to transform many industries.**\n"
     ]
    }
   ],
   "source": [
    "if __name__ == \"__main__\":\n",
    "    state = {\"message\": \"What is Agentic AI\", \"response\": None}\n",
    "    compiled_graph = graph.compile()\n",
    "    result = compiled_graph.invoke(state)\n",
    "    # return state\n",
    "    print(\"Gemini said: \", result[\"response\"])"
   ]
  },
  {
   "cell_type": "markdown",
   "id": "9539794a",
   "metadata": {},
   "source": []
  }
 ],
 "metadata": {
  "kernelspec": {
   "display_name": "Python 3",
   "language": "python",
   "name": "python3"
  },
  "language_info": {
   "codemirror_mode": {
    "name": "ipython",
    "version": 3
   },
   "file_extension": ".py",
   "mimetype": "text/x-python",
   "name": "python",
   "nbconvert_exporter": "python",
   "pygments_lexer": "ipython3",
   "version": "3.11.9"
  }
 },
 "nbformat": 4,
 "nbformat_minor": 5
}
