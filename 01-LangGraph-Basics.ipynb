{
 "cells": [
  {
   "cell_type": "markdown",
   "id": "609a5376",
   "metadata": {},
   "source": [
    "# LangGraph:\n",
    "lets us create WorkFlows Like Flow Charts ( nodes and Edges , where nodes are the Tasks )"
   ]
  },
  {
   "cell_type": "code",
   "execution_count": null,
   "id": "b6b3af71",
   "metadata": {},
   "outputs": [],
   "source": [
    "from langgraph.graph import StateGraph, END\n",
    "# Stategraph -> main class for making workflowgraph\n",
    "# End -> lets us know where should STOP\n"
   ]
  },
  {
   "cell_type": "code",
   "execution_count": null,
   "id": "38405cd7",
   "metadata": {},
   "outputs": [],
   "source": [
    "class EchoState: # Defines What Data will be passed through the workflow \n",
    "    def __init__(self,message): \n",
    "        self.message = message \n",
    "        self.response = None"
   ]
  },
  {
   "cell_type": "markdown",
   "id": "9539794a",
   "metadata": {},
   "source": []
  }
 ],
 "metadata": {
  "language_info": {
   "name": "python"
  }
 },
 "nbformat": 4,
 "nbformat_minor": 5
}
